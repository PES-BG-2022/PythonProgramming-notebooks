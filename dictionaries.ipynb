{
 "cells": [
  {
   "cell_type": "markdown",
   "metadata": {},
   "source": [
    "## Diccionarios\n"
   ]
  },
  {
   "cell_type": "markdown",
   "metadata": {},
   "source": [
    "Supongamos el siguiente esquema para almacenar y consultar la información de algunos estudiantes: "
   ]
  },
  {
   "cell_type": "code",
   "execution_count": 14,
   "metadata": {},
   "outputs": [],
   "source": [
    "names = ['Ana', 'John', 'Denise', 'Katy']\n",
    "grade = ['B', 'A+', 'A', 'A']\n",
    "course = [\"20.001\", \"6.0001\", \"20.002\", \"9.01\"]"
   ]
  },
  {
   "cell_type": "code",
   "execution_count": 15,
   "metadata": {},
   "outputs": [],
   "source": [
    "def get_grade(student, name_list, grade_list, course_list): \n",
    "    i = name_list.index(student)\n",
    "    grade = grade_list[i]\n",
    "    course = course_list[i]\n",
    "    return (course, grade)"
   ]
  },
  {
   "cell_type": "code",
   "execution_count": 17,
   "metadata": {},
   "outputs": [
    {
     "data": {
      "text/plain": [
       "('20.001', 'B')"
      ]
     },
     "execution_count": 17,
     "metadata": {},
     "output_type": "execute_result"
    }
   ],
   "source": [
    "get_grade(\"Ana\", names, grade, course)"
   ]
  },
  {
   "cell_type": "markdown",
   "metadata": {},
   "source": [
    "Los diccionarios proveen una alternativa más limpia."
   ]
  },
  {
   "cell_type": "code",
   "execution_count": 11,
   "metadata": {},
   "outputs": [],
   "source": [
    "grades = {'Ana':'B', 'John':'A+', 'Denise':'A', 'Katy':'A'}\n",
    "course = {'Ana':'20.001', 'John':'6.0001', 'Denise':'20.002', 'Katy':'9.01'}"
   ]
  },
  {
   "cell_type": "code",
   "execution_count": 12,
   "metadata": {},
   "outputs": [
    {
     "data": {
      "text/plain": [
       "('B', '20.001')"
      ]
     },
     "execution_count": 12,
     "metadata": {},
     "output_type": "execute_result"
    }
   ],
   "source": [
    "grades[\"Ana\"], course[\"Ana\"]"
   ]
  },
  {
   "cell_type": "markdown",
   "metadata": {},
   "source": [
    "Para crear un diccionario vacío: "
   ]
  },
  {
   "cell_type": "code",
   "execution_count": 19,
   "metadata": {},
   "outputs": [
    {
     "data": {
      "text/plain": [
       "dict"
      ]
     },
     "execution_count": 19,
     "metadata": {},
     "output_type": "execute_result"
    }
   ],
   "source": [
    "d = dict()\n",
    "type(d)"
   ]
  },
  {
   "cell_type": "markdown",
   "metadata": {},
   "source": [
    "## Operaciones de diccionarios\n",
    "\n",
    "Veamos los métodos `keys()` y `values()`: "
   ]
  },
  {
   "cell_type": "code",
   "execution_count": 21,
   "metadata": {},
   "outputs": [],
   "source": [
    "grades = {'Ana':'B', 'John':'A+', 'Denise':'A', 'Katy':'A'}"
   ]
  },
  {
   "cell_type": "code",
   "execution_count": 22,
   "metadata": {},
   "outputs": [
    {
     "data": {
      "text/plain": [
       "dict_keys(['Ana', 'John', 'Denise', 'Katy'])"
      ]
     },
     "execution_count": 22,
     "metadata": {},
     "output_type": "execute_result"
    }
   ],
   "source": [
    "grades.keys()"
   ]
  },
  {
   "cell_type": "code",
   "execution_count": 23,
   "metadata": {},
   "outputs": [
    {
     "data": {
      "text/plain": [
       "dict_values(['B', 'A+', 'A', 'A'])"
      ]
     },
     "execution_count": 23,
     "metadata": {},
     "output_type": "execute_result"
    }
   ],
   "source": [
    "grades.values()"
   ]
  },
  {
   "cell_type": "markdown",
   "metadata": {},
   "source": [
    "Nota: el orden de iteración en un diccionario no está garantizado al utilizar estas funciones."
   ]
  },
  {
   "cell_type": "markdown",
   "metadata": {},
   "source": [
    "## Características de las llaves y valores"
   ]
  },
  {
   "cell_type": "code",
   "execution_count": 34,
   "metadata": {},
   "outputs": [
    {
     "data": {
      "text/plain": [
       "{4: {1: 0}, (1, 3): 'twelve', 'const': [3.14, 2.7, 8.44]}"
      ]
     },
     "execution_count": 34,
     "metadata": {},
     "output_type": "execute_result"
    }
   ],
   "source": [
    "d = {4:{1:0}, \n",
    "    (1,3):\"twelve\",\n",
    "    'const':[3.14,2.7,8.44]}\n",
    "\n",
    "d"
   ]
  },
  {
   "cell_type": "code",
   "execution_count": 35,
   "metadata": {},
   "outputs": [
    {
     "data": {
      "text/plain": [
       "'twelve'"
      ]
     },
     "execution_count": 35,
     "metadata": {},
     "output_type": "execute_result"
    }
   ],
   "source": [
    "d[(1, 3)]"
   ]
  },
  {
   "cell_type": "code",
   "execution_count": 36,
   "metadata": {},
   "outputs": [
    {
     "data": {
      "text/plain": [
       "[3.14, 2.7, 8.44]"
      ]
     },
     "execution_count": 36,
     "metadata": {},
     "output_type": "execute_result"
    }
   ],
   "source": [
    "d[\"const\"]"
   ]
  },
  {
   "cell_type": "markdown",
   "metadata": {},
   "source": [
    "## Dictionary comprehension"
   ]
  },
  {
   "cell_type": "code",
   "execution_count": 94,
   "metadata": {},
   "outputs": [],
   "source": [
    "f = {x: 2*x**2+2*x+1 for x in range(10)}"
   ]
  },
  {
   "cell_type": "code",
   "execution_count": 95,
   "metadata": {},
   "outputs": [
    {
     "data": {
      "text/plain": [
       "{0: 1, 1: 5, 2: 13, 3: 25, 4: 41, 5: 61, 6: 85, 7: 113, 8: 145, 9: 181}"
      ]
     },
     "execution_count": 95,
     "metadata": {},
     "output_type": "execute_result"
    }
   ],
   "source": [
    "f"
   ]
  },
  {
   "cell_type": "markdown",
   "metadata": {},
   "source": [
    "## Ejemplo: diccionario de frecuencias"
   ]
  },
  {
   "cell_type": "code",
   "execution_count": 61,
   "metadata": {},
   "outputs": [],
   "source": [
    "complicity = \"\"\"\n",
    "Soy el verbo que da acción a una buena conversación\n",
    "Y cuando tu me nombras siente ganas\n",
    "Soy la nueva alternativa contra contaminación\n",
    "Y tu eres la energía que me carga\n",
    "Soy una arboleda que da sombra a tu casa\n",
    "Un viento suave que te soba la cara\n",
    "De too's tus sueños, negra, soy la manifestación\n",
    "Tu eres esa libertad soñada\n",
    "Soy la serenidad que lleva a la meditación\n",
    "Y tu eres ese tan sagrado mantra\n",
    "Soy ese juguito e' parcha que te baja la presión\n",
    "Y siempre que te sube tu me llamas ya\n",
    "Tira la sábana sal de la cama\n",
    "Vamos a conquistar toda la casa\n",
    "De todo lo que tu acostumbras soy contradicción\n",
    "Creo que eso es lo que a ti te llama\n",
    "La complicidad es tanta\n",
    "Que nuestras vibraciones se complementan\n",
    "Lo que tienes me hace falta\n",
    "Y lo que tengo te hace ser más completa\n",
    "La afinidad es tanta\n",
    "Miro a tus ojos y ya se lo que piensas\n",
    "Te quiero por que eres tantas\n",
    "Cositas bellas que me hacen creer que soy\n",
    "La levadura que te hace crecer el corazón\n",
    "Y tu la vitamina que me falta\n",
    "Soy ese rocío que se posa en tu vegetación\n",
    "Y tu esa tierra fértil que esta escasa\n",
    "Soy La blanca arena que alfombra tu playa\n",
    "Todo el follaje que da vida a tu mapa\n",
    "De toda idea creativa soy la gestación\n",
    "Tu eres la utopía deseada\n",
    "La complicidad es tanta\n",
    "Que nuestras vibraciones se complementan\n",
    "Lo que tienes me hace falta\n",
    "Y lo que tengo te hace ser más completa\n",
    "La afinidad es tanta miro a tus ojos\n",
    "Y ya se lo que piensas\n",
    "Te quiero por que eres tantas cositas\n",
    "Bellas que me hacen sentir muy bien\n",
    "Soy la locura que estremece,\n",
    "Soy tu adicción y tu eres mi felicidad, mi calma\n",
    "Soy una colonia que va en busca de liberación\n",
    "Y tu eres esa dosis de esperanza\n",
    "Soy la cordillera que en la distancia\n",
    "Te cura la visión con su elegancia\n",
    "De todo loco que lo intenta soy la frustración\n",
    "Y tu eres ese reto que me encanta\n",
    "La complicidad es tanta\n",
    "Que nuestras vibraciones se complementan\n",
    "Lo que tienes me hace falta\n",
    "Y lo que tengo te hace ser más completa\n",
    "La afinidad es tanta miro a tus ojos\n",
    "Y ya se lo que piensas\n",
    "Te quiero por que eres tantas\n",
    "Cositas bellas que me hacen sentir muy bien\n",
    "La complicidad es tanta\n",
    "Que nuestras vibraciones se complementan\n",
    "Lo que tienes me hace falta\n",
    "Y lo que tengo te hace ser más completa\n",
    "La afinidad es tanta miro a tus ojos\n",
    "Y ya se lo que piensas\n",
    "Te quiero por que eres tantas\n",
    "Cositas bellas que me hacen sentir muy bien\n",
    "\"\"\""
   ]
  },
  {
   "cell_type": "markdown",
   "metadata": {},
   "source": [
    "### Obtener las frecuencias"
   ]
  },
  {
   "cell_type": "code",
   "execution_count": 62,
   "metadata": {},
   "outputs": [],
   "source": [
    "def lyrics_to_frequencies(lyrics: str):\n",
    "    myDict = {}\n",
    "    for word in lyrics:\n",
    "        if word in myDict:\n",
    "            myDict[word] += 1\n",
    "        else:\n",
    "            myDict[word] = 1\n",
    "    return myDict"
   ]
  },
  {
   "cell_type": "code",
   "execution_count": 79,
   "metadata": {},
   "outputs": [],
   "source": [
    "freqs = lyrics_to_frequencies(complicity.split())\n",
    "# freqs"
   ]
  },
  {
   "cell_type": "markdown",
   "metadata": {},
   "source": [
    "### Obtener las palabras más comunes"
   ]
  },
  {
   "cell_type": "code",
   "execution_count": 72,
   "metadata": {},
   "outputs": [],
   "source": [
    "def most_common_word(freqs):\n",
    "    best = max(freqs.values())\n",
    "    words = []\n",
    "    for k in freqs:\n",
    "        if freqs[k] == best:\n",
    "            words.append(k)\n",
    "    return (words, best)"
   ]
  },
  {
   "cell_type": "code",
   "execution_count": 81,
   "metadata": {},
   "outputs": [
    {
     "data": {
      "text/plain": [
       "(['que'], 42)"
      ]
     },
     "execution_count": 81,
     "metadata": {},
     "output_type": "execute_result"
    }
   ],
   "source": [
    "most_common_word(freqs)"
   ]
  },
  {
   "cell_type": "code",
   "execution_count": 82,
   "metadata": {},
   "outputs": [],
   "source": [
    "def words_often(freqs_dict, minTimes):\n",
    "    result = []\n",
    "    done = False\n",
    "    freqs = freqs_dict.copy()\n",
    "    while not done:\n",
    "        temp = most_common_word(freqs)\n",
    "        if temp[1] >= minTimes:\n",
    "            result.append(temp)\n",
    "            for w in temp[0]:\n",
    "                #remove word from dict\n",
    "                del(freqs[w])  \n",
    "        else:\n",
    "            done = True\n",
    "    return result"
   ]
  },
  {
   "cell_type": "code",
   "execution_count": 87,
   "metadata": {},
   "outputs": [
    {
     "data": {
      "text/plain": [
       "[(['que'], 42),\n",
       " (['la'], 18),\n",
       " (['Y', 'tu'], 15),\n",
       " (['me'], 13),\n",
       " (['Soy', 'eres', 'lo'], 11),\n",
       " (['a', 'La'], 10),\n",
       " (['te', 'es', 'se', 'hace'], 9),\n",
       " (['tanta'], 8),\n",
       " (['tus', 'soy', 'ya', 'falta', 'Te'], 5)]"
      ]
     },
     "execution_count": 87,
     "metadata": {},
     "output_type": "execute_result"
    }
   ],
   "source": [
    "words_often(freqs, 5)"
   ]
  },
  {
   "cell_type": "markdown",
   "metadata": {},
   "source": [
    "## Ejercicios"
   ]
  },
  {
   "cell_type": "markdown",
   "metadata": {},
   "source": [
    "- Modificar el ejercicio anterior para que la función `lyrics_to_frequencies`  quite las palabras de 3 letras o menos. Realizar el análisis de palabras que aparecen más de 5 veces."
   ]
  },
  {
   "cell_type": "code",
   "execution_count": null,
   "metadata": {},
   "outputs": [],
   "source": []
  },
  {
   "cell_type": "markdown",
   "metadata": {},
   "source": [
    "- Crear un diccionario con los primeros 100 números primos. "
   ]
  },
  {
   "cell_type": "code",
   "execution_count": null,
   "metadata": {},
   "outputs": [],
   "source": []
  }
 ],
 "metadata": {
  "interpreter": {
   "hash": "f13a15f6d8e6dbf190362d83f8f24b25050c3603e79608f15fd979d60be4a590"
  },
  "kernelspec": {
   "display_name": "Python 3.9.7 64-bit ('bg': conda)",
   "language": "python",
   "name": "python3"
  },
  "language_info": {
   "codemirror_mode": {
    "name": "ipython",
    "version": 3
   },
   "file_extension": ".py",
   "mimetype": "text/x-python",
   "name": "python",
   "nbconvert_exporter": "python",
   "pygments_lexer": "ipython3",
   "version": "3.9.7"
  },
  "orig_nbformat": 4
 },
 "nbformat": 4,
 "nbformat_minor": 2
}
