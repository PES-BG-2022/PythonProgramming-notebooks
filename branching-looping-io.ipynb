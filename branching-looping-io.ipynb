{
 "cells": [
  {
   "cell_type": "markdown",
   "metadata": {},
   "source": [
    "# Control de flujo e iteraciones"
   ]
  },
  {
   "cell_type": "markdown",
   "metadata": {},
   "source": [
    "## Entrada y salida del usuario"
   ]
  },
  {
   "cell_type": "code",
   "execution_count": 3,
   "metadata": {},
   "outputs": [],
   "source": [
    "hi = \"Hola amigos del PES\""
   ]
  },
  {
   "cell_type": "code",
   "execution_count": 4,
   "metadata": {},
   "outputs": [
    {
     "data": {
      "text/plain": [
       "'Hola mundo Rod'"
      ]
     },
     "execution_count": 4,
     "metadata": {},
     "output_type": "execute_result"
    }
   ],
   "source": [
    "name = input(\"Ingresa tu nombre: \")\n",
    "hello = \"Hola mundo\"\n",
    "saludo = hello + \" \" + name\n",
    "saludo"
   ]
  },
  {
   "cell_type": "code",
   "execution_count": 15,
   "metadata": {},
   "outputs": [
    {
     "data": {
      "text/plain": [
       "12"
      ]
     },
     "execution_count": 15,
     "metadata": {},
     "output_type": "execute_result"
    }
   ],
   "source": [
    "edad = int(input(\"Ingresa tu edad: \"))\n",
    "edad"
   ]
  },
  {
   "cell_type": "markdown",
   "metadata": {},
   "source": [
    "## Salida en consola"
   ]
  },
  {
   "cell_type": "code",
   "execution_count": 5,
   "metadata": {},
   "outputs": [
    {
     "name": "stdout",
     "output_type": "stream",
     "text": [
      "Hola mundo Rod\n"
     ]
    }
   ],
   "source": [
    "print(saludo)"
   ]
  },
  {
   "cell_type": "code",
   "execution_count": 7,
   "metadata": {},
   "outputs": [
    {
     "name": "stdout",
     "output_type": "stream",
     "text": [
      "Hola mundo  ->  Rod\n"
     ]
    }
   ],
   "source": [
    "print(hello, \" -> \", name)"
   ]
  },
  {
   "cell_type": "markdown",
   "metadata": {},
   "source": [
    "Argumentos `sep` y `end`"
   ]
  },
  {
   "cell_type": "code",
   "execution_count": 8,
   "metadata": {},
   "outputs": [
    {
     "name": "stdout",
     "output_type": "stream",
     "text": [
      "Hola mundo,Rod\n"
     ]
    }
   ],
   "source": [
    "print(hello, name, sep = \",\")"
   ]
  },
  {
   "cell_type": "code",
   "execution_count": 9,
   "metadata": {},
   "outputs": [
    {
     "name": "stdout",
     "output_type": "stream",
     "text": [
      "Hola mundo Rod :)"
     ]
    }
   ],
   "source": [
    "print(hello, name, end = \" :)\")"
   ]
  },
  {
   "cell_type": "markdown",
   "metadata": {},
   "source": [
    "Combinar variables en el texto (interpolación)"
   ]
  },
  {
   "cell_type": "code",
   "execution_count": 10,
   "metadata": {},
   "outputs": [
    {
     "name": "stdout",
     "output_type": "stream",
     "text": [
      "Hola Rodrigo, Pi=3.1415\n"
     ]
    }
   ],
   "source": [
    "pi=3.1415\n",
    "print(\"Hola %s, Pi=%0.4f\" % ('Rodrigo', pi))"
   ]
  },
  {
   "cell_type": "markdown",
   "metadata": {},
   "source": [
    "También es posible utilizando diccionarios: "
   ]
  },
  {
   "cell_type": "code",
   "execution_count": 11,
   "metadata": {},
   "outputs": [
    {
     "name": "stdout",
     "output_type": "stream",
     "text": [
      "Pi = 3.1415\n"
     ]
    }
   ],
   "source": [
    "print(\"Pi = %(pi)s\" % {'pi' : pi})"
   ]
  },
  {
   "cell_type": "markdown",
   "metadata": {},
   "source": [
    "El método más reciente es el de *f-strings*:"
   ]
  },
  {
   "cell_type": "code",
   "execution_count": 17,
   "metadata": {},
   "outputs": [
    {
     "name": "stdout",
     "output_type": "stream",
     "text": [
      "Mi nombre es Rod y tu edad en 2 años será 14\n"
     ]
    }
   ],
   "source": [
    "print(f\"Mi nombre es {name} y tu edad en 2 años será {edad+2}\")"
   ]
  },
  {
   "cell_type": "markdown",
   "metadata": {},
   "source": [
    "## Condicionales\n",
    "\n",
    "```python\n",
    "if <condition>:\n",
    "    <expression>\n",
    "    <expression>\n",
    "    ...\n",
    "```"
   ]
  },
  {
   "cell_type": "code",
   "execution_count": 20,
   "metadata": {},
   "outputs": [
    {
     "name": "stdout",
     "output_type": "stream",
     "text": [
      "Condición es verdadera\n",
      "Y se ejecuta este bloque. Note la indentación\n"
     ]
    }
   ],
   "source": [
    "if True: \n",
    "    print(\"Condición es verdadera\")\n",
    "    print(\"Y se ejecuta este bloque. Note la indentación\")"
   ]
  },
  {
   "cell_type": "code",
   "execution_count": 19,
   "metadata": {},
   "outputs": [
    {
     "name": "stdout",
     "output_type": "stream",
     "text": [
      "Condición es verdadera\n"
     ]
    }
   ],
   "source": [
    "if 1: print(\"Condición es verdadera\")"
   ]
  },
  {
   "cell_type": "markdown",
   "metadata": {},
   "source": [
    "Bloque `else`\n",
    "\n",
    "```python\n",
    "if <condition>:\n",
    "    <expression>\n",
    "    ...\n",
    "else:\n",
    "    <expression>\n",
    "    ...\n",
    "```"
   ]
  },
  {
   "cell_type": "code",
   "execution_count": 21,
   "metadata": {},
   "outputs": [
    {
     "name": "stdout",
     "output_type": "stream",
     "text": [
      "Se ejecuta el bloque else\n"
     ]
    }
   ],
   "source": [
    "if False: \n",
    "    pass\n",
    "else:\n",
    "    print(\"Se ejecuta el bloque else\") "
   ]
  },
  {
   "cell_type": "markdown",
   "metadata": {},
   "source": [
    "Cláusula `elif` para condiciones adicionales: \n",
    "\n",
    "```python\n",
    "if <condition>:\n",
    "    <expression>\n",
    "    ...\n",
    "elif <condition>:\n",
    "    <expression>\n",
    "    ...\n",
    "else:\n",
    "    <expression>\n",
    "    ...\n",
    "```"
   ]
  },
  {
   "cell_type": "code",
   "execution_count": 23,
   "metadata": {},
   "outputs": [
    {
     "name": "stdout",
     "output_type": "stream",
     "text": [
      "x and y are equal\n",
      "therefore, x / y is 1.0\n",
      "thanks!\n"
     ]
    }
   ],
   "source": [
    "x = float(input(\"Enter a number for x: \"))\n",
    "y = float(input(\"Enter a number for y: \"))\n",
    "if x == y:\n",
    "   print(\"x and y are equal\")\n",
    "   if y != 0: \n",
    "      print(\"therefore, x / y is\", x/y)\n",
    "elif x < y:\n",
    "   print(\"x is smaller\")\n",
    "elif x > y:\n",
    "   print(\"y is smaller\")\n",
    "\n",
    "print(\"thanks!\")"
   ]
  },
  {
   "cell_type": "markdown",
   "metadata": {},
   "source": [
    "## Ciclo while\n",
    "\n",
    "Utilizado si queremos repetir una expresión o bloque hasta que se cumpla una condición.\n",
    "\n",
    "```python\n",
    "while <condition>:\n",
    "    <expression>\n",
    "    <expression>\n",
    "    ...\n",
    "```\n",
    "\n"
   ]
  },
  {
   "cell_type": "code",
   "execution_count": 2,
   "metadata": {},
   "outputs": [
    {
     "name": "stdout",
     "output_type": "stream",
     "text": [
      "0\n",
      "1\n",
      "2\n",
      "3\n",
      "4\n",
      "5\n"
     ]
    }
   ],
   "source": [
    "n = 0\n",
    "while n <= 5:\n",
    "    print(n)\n",
    "    n = n + 1"
   ]
  },
  {
   "cell_type": "code",
   "execution_count": 3,
   "metadata": {},
   "outputs": [
    {
     "name": "stdout",
     "output_type": "stream",
     "text": [
      "Excelente, ahora eres programador@.\n"
     ]
    }
   ],
   "source": [
    "ans = input(\"Programar es divertido. \")\n",
    "while ans != \"Es genial\":\n",
    "    ans = input(\"Puedes pensarlo nuevamente?: \")\n",
    "print(\"Excelente, ahora eres programador@.\")"
   ]
  },
  {
   "cell_type": "markdown",
   "metadata": {},
   "source": [
    "Este es un ciclo infinito. ¿Cómo le incorporamos una condición de finalización?"
   ]
  },
  {
   "cell_type": "code",
   "execution_count": 27,
   "metadata": {},
   "outputs": [],
   "source": [
    "import time\n",
    "\n",
    "# while True: \n",
    "#     print(\"¡Eres genial!\")\n",
    "#     time.sleep(0.5)"
   ]
  },
  {
   "cell_type": "markdown",
   "metadata": {},
   "source": [
    "## Ciclo for\n",
    "\n",
    "```python\n",
    "for <variable> in range(<some_num>):\n",
    "    <expression>\n",
    "    ...\n",
    "\n",
    "for <variable> in <collection>:\n",
    "    <expression>\n",
    "    ...\n",
    "```"
   ]
  },
  {
   "cell_type": "code",
   "execution_count": 28,
   "metadata": {},
   "outputs": [
    {
     "name": "stdout",
     "output_type": "stream",
     "text": [
      "0\n",
      "1\n",
      "2\n",
      "3\n",
      "4\n"
     ]
    }
   ],
   "source": [
    "n = 0\n",
    "while n < 5:\n",
    "    print(n)\n",
    "    n = n + 1"
   ]
  },
  {
   "cell_type": "code",
   "execution_count": 29,
   "metadata": {},
   "outputs": [
    {
     "name": "stdout",
     "output_type": "stream",
     "text": [
      "0\n",
      "1\n",
      "2\n",
      "3\n",
      "4\n"
     ]
    }
   ],
   "source": [
    "for n in range(5): \n",
    "    print(n)"
   ]
  },
  {
   "cell_type": "markdown",
   "metadata": {},
   "source": [
    "- `range` posee argumentos `(start, stop [, step])`:"
   ]
  },
  {
   "cell_type": "code",
   "execution_count": 5,
   "metadata": {},
   "outputs": [
    {
     "name": "stdout",
     "output_type": "stream",
     "text": [
      "5\n",
      "7\n"
     ]
    }
   ],
   "source": [
    "for n in range(5, 9, 2): \n",
    "    print(n)"
   ]
  },
  {
   "cell_type": "code",
   "execution_count": 8,
   "metadata": {},
   "outputs": [
    {
     "name": "stdout",
     "output_type": "stream",
     "text": [
      "7 7\n",
      "8 15\n",
      "9 24\n"
     ]
    },
    {
     "data": {
      "text/plain": [
       "24"
      ]
     },
     "execution_count": 8,
     "metadata": {},
     "output_type": "execute_result"
    }
   ],
   "source": [
    "# Sumamos números de 7 a 9\n",
    "mysum = 0\n",
    "for i in range(7, 10):\n",
    "    mysum = mysum + i \n",
    "    print(i, mysum)\n",
    "\n",
    "mysum"
   ]
  },
  {
   "cell_type": "code",
   "execution_count": 6,
   "metadata": {},
   "outputs": [
    {
     "name": "stdout",
     "output_type": "stream",
     "text": [
      "5\n",
      "12\n",
      "21\n"
     ]
    }
   ],
   "source": [
    "# Sumamos números impares\n",
    "mysum = 0\n",
    "for i in range(5, 11, 2):\n",
    "    mysum += i\n",
    "    print(mysum)"
   ]
  },
  {
   "cell_type": "markdown",
   "metadata": {},
   "source": [
    "## Break\n",
    "\n",
    "- Fuerza la salida del ciclo actual.\n",
    "- Instrucciones posteriores son ignoradas. \n",
    "- Solamente actúa en el **ciclo más interno**.\n",
    "\n",
    "```python\n",
    "while <condition_1>:\n",
    "    while <condition_2>:\n",
    "        <expression_A>\n",
    "        break\n",
    "        <expression_B>\n",
    "    <expression_C>\n",
    "```"
   ]
  },
  {
   "cell_type": "code",
   "execution_count": 9,
   "metadata": {},
   "outputs": [
    {
     "name": "stdout",
     "output_type": "stream",
     "text": [
      "5\n",
      "Llegué\n",
      "5\n"
     ]
    }
   ],
   "source": [
    "mysum = 0\n",
    "n = 100\n",
    "for i in range(5, n+1):\n",
    "    mysum += i\n",
    "    print(mysum)\n",
    "    if mysum == 5: \n",
    "        print(\"Llegué\")\n",
    "        break\n",
    "        mysum += 1 \n",
    "print(mysum)"
   ]
  },
  {
   "cell_type": "code",
   "execution_count": 14,
   "metadata": {},
   "outputs": [
    {
     "name": "stdout",
     "output_type": "stream",
     "text": [
      "5\n",
      "Se pasó\n",
      "5\n"
     ]
    }
   ],
   "source": [
    "n = 100\n",
    "mysum = 0\n",
    "i = 5\n",
    "while mysum <= n: \n",
    "    mysum += i \n",
    "    print(mysum)\n",
    "    i += 1\n",
    "\n",
    "    mysum2 = 0\n",
    "    for j in range(mysum):\n",
    "        mysum2 += j\n",
    "        if mysum2 > mysum // 2:\n",
    "            print(\"Se pasó\")\n",
    "            break\n",
    "    \n",
    "    print(\"Continúa ejecución while\")\n",
    "\n",
    "print(mysum)"
   ]
  },
  {
   "cell_type": "markdown",
   "metadata": {},
   "source": [
    "## Ciclos `for` vs. `while`"
   ]
  },
  {
   "cell_type": "markdown",
   "metadata": {},
   "source": [
    "- `for`: \n",
    "  - Se conoce el número de iteraciones. \n",
    "  - Utiliza un contador o colección. \n",
    "  - Se puede reescribir como un ciclo `while`. \n",
    "\n",
    "- `while`: \n",
    "  - Número de iteraciones no determinado o acotado. \n",
    "  - Puede utilizar contador, pero debe inicializarse y actualizarlo. \n",
    "  - Condición más compleja de parada, que podría no poder reescribirse como un ciclo `for`."
   ]
  },
  {
   "cell_type": "markdown",
   "metadata": {},
   "source": [
    "## Ejercicios"
   ]
  },
  {
   "cell_type": "markdown",
   "metadata": {},
   "source": [
    "Reemplaza el comentario para utilizar un ciclo `while`"
   ]
  },
  {
   "cell_type": "code",
   "execution_count": 19,
   "metadata": {},
   "outputs": [
    {
     "name": "stdout",
     "output_type": "stream",
     "text": [
      "XXXXX"
     ]
    }
   ],
   "source": [
    "numXs = int(float(input('How many times should I print the letter X? ')))\n",
    "toPrint = ''\n",
    "#concatenate X to toPrint numXs times\n",
    "i = 1\n",
    "while i <= numXs:\n",
    "    print(\"X\", end=\"\")\n",
    "    i += 1"
   ]
  },
  {
   "cell_type": "markdown",
   "metadata": {},
   "source": [
    "Escriba un programa en Python para evaluar lo siguiente de forma iterativa. Continúe la iteración hasta que el cambio debido al último elemento como una fracción del último valor sea menor que $10^{−6}$: $$x = \\frac{1}{1!} + \\frac{2}{2!}+ \\frac{3}{3!}+ \\frac{4}{4!} + \\ldots$$"
   ]
  },
  {
   "cell_type": "code",
   "execution_count": 21,
   "metadata": {},
   "outputs": [
    {
     "data": {
      "text/plain": [
       "1"
      ]
     },
     "execution_count": 21,
     "metadata": {},
     "output_type": "execute_result"
    }
   ],
   "source": [
    "import math\n",
    "math.factorial(0)"
   ]
  },
  {
   "cell_type": "code",
   "execution_count": 23,
   "metadata": {},
   "outputs": [
    {
     "name": "stdout",
     "output_type": "stream",
     "text": [
      "iter: 1, num: 1.0, x=1.0\n",
      "iter: 2, num: 1.0, x=2.0\n",
      "iter: 3, num: 0.5, x=2.5\n",
      "iter: 4, num: 0.16666666666666666, x=2.6666666666666665\n",
      "iter: 5, num: 0.041666666666666664, x=2.708333333333333\n",
      "iter: 6, num: 0.008333333333333333, x=2.7166666666666663\n",
      "iter: 7, num: 0.001388888888888889, x=2.7180555555555554\n",
      "iter: 8, num: 0.0001984126984126984, x=2.7182539682539684\n",
      "iter: 9, num: 2.48015873015873e-05, x=2.71827876984127\n",
      "iter: 10, num: 2.7557319223985893e-06, x=2.7182815255731922\n"
     ]
    }
   ],
   "source": [
    "x = 0\n",
    "i = 0\n",
    "mayor = True\n",
    "while mayor: \n",
    "    i += 1\n",
    "    num = i / math.factorial(i)\n",
    "    x += num \n",
    "    \n",
    "    # Status\n",
    "    print(f\"iter: {i}, num: {num}, x={x}\")\n",
    "\n",
    "    # Para salir del ciclo\n",
    "    if num < 10e-6: mayor = False"
   ]
  },
  {
   "cell_type": "code",
   "execution_count": 24,
   "metadata": {},
   "outputs": [
    {
     "name": "stdout",
     "output_type": "stream",
     "text": [
      "2.7182815255731922\n"
     ]
    }
   ],
   "source": [
    "import math\n",
    "\n",
    "n = 1\n",
    "x = 0\n",
    "while 1e-6 < (n/math.factorial(n)):\n",
    "    x += (n/math.factorial(n))\n",
    "    n+=1\n",
    "\n",
    "print(x)"
   ]
  },
  {
   "cell_type": "code",
   "execution_count": 25,
   "metadata": {},
   "outputs": [
    {
     "name": "stdout",
     "output_type": "stream",
     "text": [
      "2.7182818011463845\n"
     ]
    }
   ],
   "source": [
    "n2 = 1\n",
    "x2 = 0\n",
    "while True:\n",
    "    tmp = (n2/math.factorial(n2))\n",
    "    if tmp > 1e-6:\n",
    "        x2+=tmp\n",
    "        n2+=1\n",
    "    else:\n",
    "        x2+=tmp\n",
    "        break\n",
    "print(x2)\n"
   ]
  },
  {
   "cell_type": "markdown",
   "metadata": {},
   "source": [
    "Escriba un programa que le pida al usuario que ingrese 5 enteros y luego imprima el número impar más grande que se ingresó. Si no se ingresó un número impar, debería imprimir un mensaje a tal efecto."
   ]
  },
  {
   "cell_type": "code",
   "execution_count": 30,
   "metadata": {},
   "outputs": [
    {
     "data": {
      "text/plain": [
       "1"
      ]
     },
     "execution_count": 30,
     "metadata": {},
     "output_type": "execute_result"
    }
   ],
   "source": [
    "5 % 2"
   ]
  },
  {
   "cell_type": "code",
   "execution_count": 34,
   "metadata": {},
   "outputs": [
    {
     "name": "stdout",
     "output_type": "stream",
     "text": [
      "El mayor impar fue 9\n"
     ]
    }
   ],
   "source": [
    "bigger = 0\n",
    "for i in range(5):\n",
    "    # Pedir número al usuario \n",
    "    num = int(input(f\"Ingresa el número {i}: \"))\n",
    "    # Revisar si es impar, \n",
    "    if num % 2 == 1:\n",
    "        # y ver si es el más alto \n",
    "        if num > bigger: \n",
    "            # Guardar a num como el impar más alto hasta el momento\n",
    "            bigger = num\n",
    "\n",
    "if bigger == 0: \n",
    "    # Ningún número ingresado fue impar\n",
    "    print(\"Ningún número ingresado fue impar\")\n",
    "else:\n",
    "    # Mostrar el mayor impar, que sería bigger\n",
    "    print(f\"El mayor impar fue {bigger}\")"
   ]
  },
  {
   "cell_type": "markdown",
   "metadata": {},
   "source": [
    "*Más ejercicios en la sección 3.5 de Padmanabhan.*"
   ]
  }
 ],
 "metadata": {
  "interpreter": {
   "hash": "f13a15f6d8e6dbf190362d83f8f24b25050c3603e79608f15fd979d60be4a590"
  },
  "kernelspec": {
   "display_name": "Python 3.9.7 64-bit ('bg': conda)",
   "language": "python",
   "name": "python3"
  },
  "language_info": {
   "codemirror_mode": {
    "name": "ipython",
    "version": 3
   },
   "file_extension": ".py",
   "mimetype": "text/x-python",
   "name": "python",
   "nbconvert_exporter": "python",
   "pygments_lexer": "ipython3",
   "version": "3.9.7"
  },
  "orig_nbformat": 4
 },
 "nbformat": 4,
 "nbformat_minor": 2
}
