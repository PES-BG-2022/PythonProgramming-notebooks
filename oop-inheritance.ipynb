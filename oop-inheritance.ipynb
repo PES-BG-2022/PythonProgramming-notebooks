{
 "cells": [
  {
   "cell_type": "markdown",
   "metadata": {
    "slideshow": {
     "slide_type": "slide"
    }
   },
   "source": [
    "## Programación orientada a objetos: herencia"
   ]
  },
  {
   "cell_type": "markdown",
   "metadata": {
    "slideshow": {
     "slide_type": "slide"
    }
   },
   "source": [
    "## Contenidos\n",
    "\n",
    "> \"*I'm not a great programmer*; *I'm just a good programmer with great habits.*\" **Kent Beck**\n",
    "\n",
    "- Programación orientada a objetos.  \n",
    "    - Profundizaremos en la programación orientada a objetos.  \n",
    "    - Veremos el proceso de **ocultado de información y detalles**.\n",
    "    - Veremos las **variables de clase**.  \n",
    "- Herencia de clases\n",
    "    - Conoceremos el concepto de herencia y cómo puede aplicarse."
   ]
  },
  {
   "cell_type": "markdown",
   "metadata": {
    "slideshow": {
     "slide_type": "slide"
    }
   },
   "source": [
    "## Implementación vs. utilización\n",
    "\n",
    "* Hemos visto cómo escribir código desde dos perspectivas diferentes:  \n",
    "\n",
    "    - **Implementar** un nuevo tipo de objeto con una clase:\n",
    "        - **Definir** la clase.\n",
    "        \n",
    "        - Definir los **atributos** de la clase. ¿Qué es el objeto?\n",
    "        \n",
    "        - Definir los **métodos** de la clase. ¿Cómo se usa el objeto?\n",
    "        \n",
    "    - **Utilizar** el nuevo tipo de objeto en el código. \n",
    "        - Crear **instancias** del nuevo tipo.\n",
    "        \n",
    "        - Realizar **operaciones** con los objetos.\n",
    "    "
   ]
  },
  {
   "cell_type": "markdown",
   "metadata": {
    "slideshow": {
     "slide_type": "slide"
    }
   },
   "source": [
    "## Definición del clase\n",
    "\n",
    "- El nombre de la clase es el **tipo**: \n",
    "```python\n",
    "class Coordinate(object)\n",
    "```\n",
    "\n",
    "- La clase está definida genéricamente:\n",
    "    \n",
    "    - Utilizamos `self` para referirnos a una instancia al definir la clase.\n",
    "    ```python\n",
    "    (self.x–self.y)**2\n",
    "    ```\n",
    "    \n",
    "    - `self` es un **parámetro** para los métodos en la definición.\n",
    "    \n",
    "- La clase define datos y métodos comunes a través de todas las instancias."
   ]
  },
  {
   "cell_type": "code",
   "execution_count": 10,
   "metadata": {},
   "outputs": [],
   "source": [
    "class Coordinate:\n",
    "    \"\"\" A coordinate made up of an x and y value \"\"\"\n",
    "    def __init__(self, x, y):\n",
    "        \"\"\" Sets the x and y values \"\"\"\n",
    "        self.x = x\n",
    "        self.y = y\n",
    "        \n",
    "    def distance(self, other):\n",
    "        \"\"\" Returns the euclidean distance between two points \"\"\"\n",
    "        x_diff_sq = (self.x - other.x)**2\n",
    "        y_diff_sq = (self.y - other.y)**2\n",
    "        return (x_diff_sq + y_diff_sq)**0.5\n",
    "    \n",
    "    # Define cómo se va a representar el objeto Coordinate cuando se requiera una representación de str\n",
    "    def __repr__(self):\n",
    "        \"\"\" Returns a string representation of the Coordinate\"\"\"\n",
    "        return f\"Coordenada: <{self.x}, {self.y}>\"\n",
    "\n",
    "    # En este método SÍ es necesario self\n",
    "    def say_hi(self): \n",
    "        print(\"Hi, I'm a Coordinate\")\n",
    "\n",
    "    # Definimos cómo operar dos coordinates con el operador +\n",
    "    def __add__(self, other): \n",
    "        new_x = self.x + other.x\n",
    "        new_y = self.y + other.y\n",
    "        return Coordinate(new_x, new_y)\n",
    "\n",
    "    def __len__(self): \n",
    "        return 2"
   ]
  },
  {
   "cell_type": "code",
   "execution_count": 11,
   "metadata": {},
   "outputs": [
    {
     "name": "stdout",
     "output_type": "stream",
     "text": [
      "Hi, I'm a Coordinate\n"
     ]
    }
   ],
   "source": [
    "c = Coordinate(0, 0)\n",
    "a = Coordinate(3, 4)\n",
    "\n",
    "c.distance(a) # -> Coordinate.distance(c, a)\n",
    "a.distance(c) # -> Coordinate.distance(a, c)\n",
    "\n",
    "a.say_hi() # -> Coordinate.say_hi(a)"
   ]
  },
  {
   "cell_type": "markdown",
   "metadata": {
    "slideshow": {
     "slide_type": "slide"
    }
   },
   "source": [
    "## Instancia de una clase\n",
    "\n",
    "- La instancia es **un objeto específico** de una clase:\n",
    "> `coord = Coordinate(1,2)`\n",
    "\n",
    "- Los atributos de datos varían entre instancias:\n",
    "    > `c1 = Coordinate(1,2)`  \n",
    "    `c2 = Coordinate(3,4)`\n",
    "    \n",
    "    - `c1` y `c2` ¡tienen diferentes coordenadas!\n",
    "    \n",
    "- La instancia **posee la estructura de la clase**."
   ]
  },
  {
   "cell_type": "markdown",
   "metadata": {
    "slideshow": {
     "slide_type": "slide"
    }
   },
   "source": [
    "## Por qué utilizar OOP y clases de objetos\n",
    "\n",
    "- La idea es copiar el comportamiento de la vida real.\n",
    "\n",
    "- Agrupamos diferentes objetos que son del mismo tipo.\n",
    "\n",
    "![Tipos de animales](images/oop/animals.png)"
   ]
  },
  {
   "cell_type": "markdown",
   "metadata": {
    "slideshow": {
     "slide_type": "slide"
    }
   },
   "source": [
    "![Tipos de personas](images/oop/person-prototype.png)"
   ]
  },
  {
   "cell_type": "markdown",
   "metadata": {
    "slideshow": {
     "slide_type": "slide"
    }
   },
   "source": [
    "## Grupos de objetos con atributos\n",
    "\n",
    "* **Atributos de datos** \n",
    "    \n",
    "    - ¿Qué son?\n",
    "    \n",
    "    - Para un `Coordinate`: valores $x$ e $y$.\n",
    "    \n",
    "    - Para un `Animal`: *nombre* y *edad*.\n",
    "\n",
    "* **Métodos**\n",
    "    \n",
    "    - ¿Cómo puede alguien interactuar con el objeto?\n",
    "    \n",
    "    - ¿Qué hace?\n",
    "    \n",
    "    - Para un `Coordinate`: *encontrar la distancia entre dos coordenadas*.\n",
    "    \n",
    "    - Para un `Animal`: *hacer un sonido*.\n"
   ]
  },
  {
   "cell_type": "markdown",
   "metadata": {
    "slideshow": {
     "slide_type": "slide"
    }
   },
   "source": [
    "## ¿Cómo definir una clase?\n",
    "\n",
    "Recordemos la sintaxis para definir una clase:"
   ]
  },
  {
   "cell_type": "code",
   "execution_count": 14,
   "metadata": {
    "slideshow": {
     "slide_type": "fragment"
    }
   },
   "outputs": [
    {
     "data": {
      "text/plain": [
       "<__main__.Animal at 0x1914906d370>"
      ]
     },
     "execution_count": 14,
     "metadata": {},
     "output_type": "execute_result"
    }
   ],
   "source": [
    "class Animal:\n",
    "    # El método constructor solamente recibe la edad\n",
    "    def __init__(self, age, name=None):\n",
    "        # Se configura la edad como un atributo de la instancia\n",
    "        self.age = age\n",
    "        # El atributo 'name' se deja vacío. (Inicializar atributos como querramos)\n",
    "        self.name = name\n",
    "        \n",
    "myanimal = Animal(3, \"Milú\")\n",
    "myanimal"
   ]
  },
  {
   "cell_type": "markdown",
   "metadata": {
    "slideshow": {
     "slide_type": "-"
    }
   },
   "source": [
    "***Señalemos cada una de las partes de este código***"
   ]
  },
  {
   "cell_type": "code",
   "execution_count": 15,
   "metadata": {
    "slideshow": {
     "slide_type": "subslide"
    }
   },
   "outputs": [
    {
     "data": {
      "text/plain": [
       "<__main__.Animal at 0x1914906d370>"
      ]
     },
     "execution_count": 15,
     "metadata": {},
     "output_type": "execute_result"
    }
   ],
   "source": [
    "myanimal"
   ]
  },
  {
   "cell_type": "code",
   "execution_count": 23,
   "metadata": {},
   "outputs": [
    {
     "name": "stdout",
     "output_type": "stream",
     "text": [
      "3\n"
     ]
    }
   ],
   "source": [
    "# Acceder a los atributos de la instancia\n",
    "print(myanimal.age)"
   ]
  },
  {
   "cell_type": "code",
   "execution_count": 20,
   "metadata": {},
   "outputs": [
    {
     "name": "stdout",
     "output_type": "stream",
     "text": [
      "Milú\n"
     ]
    }
   ],
   "source": [
    "print(myanimal.name)"
   ]
  },
  {
   "cell_type": "markdown",
   "metadata": {
    "slideshow": {
     "slide_type": "slide"
    }
   },
   "source": [
    "## Métodos *getter* y *setter*\n",
    "\n",
    "- Es una *buena práctica* utilizar métodos para **modificar** y **obtener** los atributos de datos de una clase, ya que de esta forma, los atributos y detalles del funcionamiento de la clase permanecen ocultos para el usuario. \n",
    "  \n",
    "\n",
    "- El usuario utiliza la clase a través de una interfaz. \n",
    "\n",
    "* Estos métodos deben utilizarse **fuera** de la clase para acceder a los atributos."
   ]
  },
  {
   "cell_type": "code",
   "execution_count": 28,
   "metadata": {
    "slideshow": {
     "slide_type": "slide"
    }
   },
   "outputs": [],
   "source": [
    "class Animal(object):\n",
    "    def __init__(self, age, name=None):\n",
    "        self.age = age\n",
    "        self.name = name\n",
    "\n",
    "    # Getters\n",
    "    def get_age(self):\n",
    "        # Devolvemos el atributo de edad\n",
    "        return self.age\n",
    "    def get_name(self):\n",
    "        # Devolvemos el atributo de nombre\n",
    "        return self.name\n",
    "    \n",
    "    # Setters\n",
    "    def set_age(self, newage):\n",
    "        self.age = newage\n",
    "    def set_name(self, newname=\"\"):\n",
    "        self.name = newname\n",
    "        \n",
    "    def __repr__(self):\n",
    "        return \"animal:\"+str(self.name)+\":\"+str(self.age)"
   ]
  },
  {
   "cell_type": "code",
   "execution_count": 29,
   "metadata": {
    "slideshow": {
     "slide_type": "subslide"
    }
   },
   "outputs": [
    {
     "name": "stdout",
     "output_type": "stream",
     "text": [
      "animal:None:4\n"
     ]
    }
   ],
   "source": [
    "a = Animal(4)\n",
    "print(a)"
   ]
  },
  {
   "cell_type": "code",
   "execution_count": 31,
   "metadata": {},
   "outputs": [
    {
     "data": {
      "text/plain": [
       "4"
      ]
     },
     "execution_count": 31,
     "metadata": {},
     "output_type": "execute_result"
    }
   ],
   "source": [
    "a.get_age()"
   ]
  },
  {
   "cell_type": "code",
   "execution_count": 32,
   "metadata": {},
   "outputs": [
    {
     "name": "stdout",
     "output_type": "stream",
     "text": [
      "4\n"
     ]
    }
   ],
   "source": [
    "print(a.get_age())"
   ]
  },
  {
   "cell_type": "code",
   "execution_count": 35,
   "metadata": {},
   "outputs": [
    {
     "data": {
      "text/plain": [
       "animal:fluffy:4"
      ]
     },
     "execution_count": 35,
     "metadata": {},
     "output_type": "execute_result"
    }
   ],
   "source": [
    "# Cambiamos el nombre\n",
    "a.set_name(\"fluffy\")\n",
    "a"
   ]
  },
  {
   "cell_type": "markdown",
   "metadata": {
    "slideshow": {
     "slide_type": "slide"
    }
   },
   "source": [
    "## Notación `.`\n",
    "\n",
    "- La instanciación crea una **instancia** de un objeto:"
   ]
  },
  {
   "cell_type": "code",
   "execution_count": 36,
   "metadata": {
    "slideshow": {
     "slide_type": "-"
    }
   },
   "outputs": [],
   "source": [
    "a = Animal(3)"
   ]
  },
  {
   "cell_type": "markdown",
   "metadata": {
    "slideshow": {
     "slide_type": "-"
    }
   },
   "source": [
    "- La notación `.` permite acceder a los atributos (datos y métodos), aunque es **mejor práctica** utilizar métodos para obtener y ajustar estos parámetros."
   ]
  },
  {
   "cell_type": "code",
   "execution_count": 37,
   "metadata": {},
   "outputs": [
    {
     "data": {
      "text/plain": [
       "3"
      ]
     },
     "execution_count": 37,
     "metadata": {},
     "output_type": "execute_result"
    }
   ],
   "source": [
    "a.age"
   ]
  },
  {
   "cell_type": "code",
   "execution_count": 38,
   "metadata": {},
   "outputs": [
    {
     "data": {
      "text/plain": [
       "3"
      ]
     },
     "execution_count": 38,
     "metadata": {},
     "output_type": "execute_result"
    }
   ],
   "source": [
    "a.get_age()"
   ]
  },
  {
   "cell_type": "markdown",
   "metadata": {
    "slideshow": {
     "slide_type": "slide"
    }
   },
   "source": [
    "## Ocultando los detalles: ¿por qué es mejor práctica?\n",
    "\n",
    "- El autor de la definición de la clase **podría querer cambiar el nombre de los atributos**"
   ]
  },
  {
   "cell_type": "code",
   "execution_count": 20,
   "metadata": {},
   "outputs": [],
   "source": [
    "class Animal(object):\n",
    "    def __init__(self, age):\n",
    "        self.years = age\n",
    "    def get_age(self):\n",
    "        return self.years"
   ]
  },
  {
   "cell_type": "markdown",
   "metadata": {},
   "source": [
    "**Note la utilización de `self.years` en lugar de `self.age`**\n",
    "\n",
    "- Si se ha cambiado la definición de la clase, al acceder **fuera de la clase** a los atributos, se **podrían obtener errores**.\n",
    "\n",
    "- Es mejor utilizar métodos ***setters*** y ***getters*** como `a.get_age()` y **no** `a.age`\n",
    "    - Mejor estilo.\n",
    "    - Es más fácil mantener el código.\n",
    "    - Previene *bugs*."
   ]
  },
  {
   "cell_type": "code",
   "execution_count": 66,
   "metadata": {},
   "outputs": [],
   "source": [
    "class Animal:\n",
    "\n",
    "    class _TipoRespiracion: \n",
    "        # Define una clase \"privada\" para manejar una característica \"más compleja\"\n",
    "        pass\n",
    "\n",
    "    def __init__(self, age):\n",
    "        self.age = age\n",
    "\n",
    "    def get_age(self):\n",
    "        \"Este método devuelve la edad de nuestro animal\"\n",
    "        return self._get_age_internal(self)\n",
    "    def set_age(self, newage):\n",
    "        'Este método configura la edad de nuestro animal con el argumento `newage`'\n",
    "        return self._get_age_internal(self)\n",
    "    \n",
    "    # Método \"privado\"\n",
    "    def _get_age_internal(self):\n",
    "        return self.age"
   ]
  },
  {
   "cell_type": "code",
   "execution_count": 64,
   "metadata": {},
   "outputs": [
    {
     "name": "stdout",
     "output_type": "stream",
     "text": [
      "\u001b[1;31mSignature:\u001b[0m \u001b[0mAnimal\u001b[0m\u001b[1;33m.\u001b[0m\u001b[0mget_age\u001b[0m\u001b[1;33m(\u001b[0m\u001b[0mself\u001b[0m\u001b[1;33m)\u001b[0m\u001b[1;33m\u001b[0m\u001b[1;33m\u001b[0m\u001b[0m\n",
      "\u001b[1;31mDocstring:\u001b[0m Este método devuelve la edad de nuestro animal\n",
      "\u001b[1;31mFile:\u001b[0m      c:\\users\\rodrigo\\appdata\\local\\temp\\ipykernel_8748\\2995147934.py\n",
      "\u001b[1;31mType:\u001b[0m      function\n"
     ]
    }
   ],
   "source": [
    "Animal.get_age?"
   ]
  },
  {
   "cell_type": "code",
   "execution_count": 68,
   "metadata": {},
   "outputs": [
    {
     "data": {
      "text/plain": [
       "2"
      ]
     },
     "execution_count": 68,
     "metadata": {},
     "output_type": "execute_result"
    }
   ],
   "source": [
    "a = Animal(2)\n",
    "\n",
    "# Por esto es que no es completamente privado\n",
    "a._get_age_internal()"
   ]
  },
  {
   "cell_type": "markdown",
   "metadata": {
    "slideshow": {
     "slide_type": "slide"
    }
   },
   "source": [
    "## Ocultando los detalles: Python no es bueno en esto\n",
    "\n",
    "- Python permite **acceder a los datos** fuera de la clase:"
   ]
  },
  {
   "cell_type": "code",
   "execution_count": 69,
   "metadata": {},
   "outputs": [
    {
     "name": "stdout",
     "output_type": "stream",
     "text": [
      "2\n"
     ]
    }
   ],
   "source": [
    "print(a.age)"
   ]
  },
  {
   "cell_type": "markdown",
   "metadata": {},
   "source": [
    "- Permite **escribir los atributos** fuera de la clase directamente:"
   ]
  },
  {
   "cell_type": "code",
   "execution_count": 70,
   "metadata": {},
   "outputs": [],
   "source": [
    "a.age = 'infinito'"
   ]
  },
  {
   "cell_type": "markdown",
   "metadata": {},
   "source": [
    "- Permite **crear atributos de datos** de una instancia, fuera de la definición de la clase."
   ]
  },
  {
   "cell_type": "code",
   "execution_count": 71,
   "metadata": {},
   "outputs": [],
   "source": [
    "a.size = \"tiny\""
   ]
  },
  {
   "cell_type": "code",
   "execution_count": 72,
   "metadata": {},
   "outputs": [
    {
     "data": {
      "text/plain": [
       "'tiny'"
      ]
     },
     "execution_count": 72,
     "metadata": {},
     "output_type": "execute_result"
    }
   ],
   "source": [
    "a.size"
   ]
  },
  {
   "cell_type": "markdown",
   "metadata": {},
   "source": [
    "- Sin embargo, ¡**no es buena práctica** hacer cualquiera de estas!"
   ]
  },
  {
   "cell_type": "markdown",
   "metadata": {
    "slideshow": {
     "slide_type": "slide"
    }
   },
   "source": [
    "## Argumentos por defecto\n",
    "\n",
    "- Permiten proveer un **valor por defecto** a los parámetros formales si no se pasa ningún parámetro."
   ]
  },
  {
   "cell_type": "code",
   "execution_count": 77,
   "metadata": {
    "slideshow": {
     "slide_type": "skip"
    }
   },
   "outputs": [],
   "source": [
    "class Animal(object):\n",
    "    def __init__(self, age):\n",
    "        self.age = age\n",
    "        self.name = None\n",
    "    # Getters\n",
    "    def get_age(self):\n",
    "        return self.age\n",
    "    def get_name(self):\n",
    "        return self.name\n",
    "    \n",
    "    # Setters\n",
    "    def set_age(self, newage=0):\n",
    "        self.age = newage\n",
    "    def set_name(self, newname=\"\"):\n",
    "        self.name = newname\n",
    "        \n",
    "    # Este se llama específicamente cuando uno llama a print del objeto\n",
    "    def __str__(self):\n",
    "        return \"animal:\"+str(self.name)+\":\"+str(self.age)\n",
    "\n",
    "    # Este se llama específicamente cuando uno MUESTRA el objeto\n",
    "    def __repr__(self):\n",
    "        return \"animal-repr:\"+str(self.name)+\":\"+str(self.age)\n"
   ]
  },
  {
   "cell_type": "code",
   "execution_count": 80,
   "metadata": {},
   "outputs": [
    {
     "name": "stdout",
     "output_type": "stream",
     "text": [
      "animal:None:2\n"
     ]
    },
    {
     "data": {
      "text/plain": [
       "animal-repr:None:2"
      ]
     },
     "execution_count": 80,
     "metadata": {},
     "output_type": "execute_result"
    }
   ],
   "source": [
    "a = Animal(2)\n",
    "print(a)\n",
    "a"
   ]
  },
  {
   "cell_type": "markdown",
   "metadata": {
    "slideshow": {
     "slide_type": "fragment"
    }
   },
   "source": [
    "- Al utilizar el argumento por defecto, podríamos no pasar ningún parámetro."
   ]
  },
  {
   "cell_type": "code",
   "execution_count": 75,
   "metadata": {},
   "outputs": [
    {
     "name": "stdout",
     "output_type": "stream",
     "text": [
      "\n"
     ]
    }
   ],
   "source": [
    "a = Animal(3)\n",
    "a.set_name()\n",
    "print(a.get_name())\n",
    "# Imprime \"\""
   ]
  },
  {
   "cell_type": "markdown",
   "metadata": {
    "slideshow": {
     "slide_type": "fragment"
    }
   },
   "source": [
    "- Acá un ejemplo con argumento:"
   ]
  },
  {
   "cell_type": "code",
   "execution_count": 76,
   "metadata": {},
   "outputs": [
    {
     "name": "stdout",
     "output_type": "stream",
     "text": [
      "fluffy\n"
     ]
    }
   ],
   "source": [
    "a = Animal(3)\n",
    "a.set_name(\"fluffy\")\n",
    "print(a.get_name())"
   ]
  },
  {
   "cell_type": "markdown",
   "metadata": {},
   "source": [
    "- Acá un ejemplo con el parámetro por defecto"
   ]
  },
  {
   "cell_type": "code",
   "execution_count": 50,
   "metadata": {
    "slideshow": {
     "slide_type": "-"
    }
   },
   "outputs": [
    {
     "name": "stdout",
     "output_type": "stream",
     "text": [
      "\n"
     ]
    }
   ],
   "source": [
    "a.set_name()\n",
    "print(a.get_name())"
   ]
  },
  {
   "cell_type": "markdown",
   "metadata": {},
   "source": [
    "## Encapsulando el juego de la vida"
   ]
  },
  {
   "cell_type": "code",
   "execution_count": 210,
   "metadata": {},
   "outputs": [],
   "source": [
    "import numpy as np\n",
    "\n",
    "class GameOfLife:\n",
    "\n",
    "    # Recibe el archivo de texto y va a cargar el mapa en un atributo\n",
    "    def __init__(self, filename :str):\n",
    "        # Cargar el mapa\n",
    "        board = self._parsemap(filename)\n",
    "        # Guardamos el tablero como un atributo\n",
    "        self.board = board\n",
    "        self.original_board = board.copy()\n",
    "\n",
    "    # Método para cargar el mapa de un archivo de texto\n",
    "    def _parsemap(self, filename: str):\n",
    "        \"\"\"Obtiene un np.ndarray para representar el mapa de energías desde el\n",
    "        archivo filename\"\"\"\n",
    "        with open(filename) as f:\n",
    "            input = f.readlines()\n",
    "        energymap = []\n",
    "        for s in input: \n",
    "            row = []\n",
    "            for c in s: \n",
    "                if c != \"\\n\": row.append(int(c))\n",
    "            energymap.append(row)\n",
    "        return np.array(energymap)\n",
    "\n",
    "    # Iteración del tablero, pública\n",
    "    def step(self):\n",
    "        # Crear una copia del tablero\n",
    "        board = self.board.copy()\n",
    "        # El tablero no necesariamente es cuadrado, tiene dimensión m x n\n",
    "        m, n = board.shape\n",
    "\n",
    "        for i in range(m): \n",
    "            for j in range(n):\n",
    "                cell = self.board[i,j]\n",
    "                # print(cell)\n",
    "                # Si la célula está viva: actualizarla según sus reglas\n",
    "                if cell == 1: \n",
    "                    board[i, j] = self._update_alive(i, j)\n",
    "                # Si no, (está muerta) actualizarla según las reglas\n",
    "                else: \n",
    "                    board[i, j] = self._update_death(i, j)\n",
    "\n",
    "        # Actualizar el tablero\n",
    "        self.board = board\n",
    "\n",
    "    # Devuelve 1 o 0 si la celda en la posición i,j del mapa debe seguir viva o muerta\n",
    "    def _update_alive(self, i, j):\n",
    "        count_at_ij = self._count_around(i, j)\n",
    "        if count_at_ij == 2 or count_at_ij == 3: \n",
    "            return 1\n",
    "        return 0\n",
    "\n",
    "    # Devuelve 1 si hay 3 celulas vivas alrededor, y 0 (muere) en caso contrario\n",
    "    def _update_death(self, i, j): \n",
    "        count_at_ij = self._count_around(i, j) # -> _count_around(self, i, j)\n",
    "        if count_at_ij == 3: return 1\n",
    "        return 0\n",
    "\n",
    "    # Devuelve la cantidad de células vivas alrededor de la posición i,j\n",
    "    def _count_around(self, i, j):\n",
    "        m, n = self.board.shape\n",
    "        count = 0\n",
    "        for x in range(i-1,i+2):\n",
    "            for y in range(j-1, j+2):\n",
    "                if x == i and y == j: continue\n",
    "                if x < 0 or x > (m-1) or y < 0 or y > (n-1): continue \n",
    "                # Acumular los 1s y 0s del tablero\n",
    "                # print(self.board[x,y])\n",
    "                count += self.board[x,y]\n",
    "\n",
    "        return count\n",
    "\n",
    "    # Reinicia el mapa al original\n",
    "    def reset(self): \n",
    "        self.board = self.original_board.copy()\n",
    "\n",
    "    def __repr__(self): \n",
    "        m, n = self.board.shape\n",
    "        board = self.board\n",
    "\n",
    "        s = \"\"\n",
    "        for i in range(m): \n",
    "            for j in range(n):\n",
    "                s += \"*\" if board[i,j] == 1 else \" \"\n",
    "            s += \"\\n\"\n",
    "        return s"
   ]
  },
  {
   "cell_type": "code",
   "execution_count": 206,
   "metadata": {},
   "outputs": [],
   "source": [
    "g1 = GameOfLife(\"game-of-life\\\\game-life.txt\")\n",
    "g2 = GameOfLife(\"game-of-life\\\\game-life.txt\")"
   ]
  },
  {
   "cell_type": "code",
   "execution_count": 207,
   "metadata": {},
   "outputs": [
    {
     "data": {
      "text/plain": [
       "          \n",
       "  * *     \n",
       "  * *  *  \n",
       "   *   *  \n",
       "        * \n",
       "      **  \n",
       "      **  \n",
       "          \n",
       " ***      \n",
       "          "
      ]
     },
     "execution_count": 207,
     "metadata": {},
     "output_type": "execute_result"
    }
   ],
   "source": [
    "g1.step()\n",
    "g1"
   ]
  },
  {
   "cell_type": "code",
   "execution_count": 201,
   "metadata": {},
   "outputs": [],
   "source": [
    "g1.reset()"
   ]
  },
  {
   "cell_type": "code",
   "execution_count": 209,
   "metadata": {},
   "outputs": [
    {
     "data": {
      "text/plain": [
       "          \n",
       "          \n",
       "  * *     \n",
       "   *   ** \n",
       "      * * \n",
       "      * * \n",
       "      **  \n",
       "  *       \n",
       "  *       \n",
       "  *       "
      ]
     },
     "execution_count": 209,
     "metadata": {},
     "output_type": "execute_result"
    }
   ],
   "source": [
    "g2.step()\n",
    "g2"
   ]
  },
  {
   "cell_type": "code",
   "execution_count": null,
   "metadata": {},
   "outputs": [],
   "source": []
  },
  {
   "cell_type": "markdown",
   "metadata": {
    "slideshow": {
     "slide_type": "slide"
    }
   },
   "source": [
    "## Jerarquías\n",
    "\n",
    "![Jerarquías de la clase `Animal`](images/oop/jerarquias.png)"
   ]
  },
  {
   "cell_type": "markdown",
   "metadata": {
    "slideshow": {
     "slide_type": "slide"
    }
   },
   "source": [
    "![Tipos de vehículos](images/oop/vehicle-class.jpeg)"
   ]
  },
  {
   "cell_type": "markdown",
   "metadata": {
    "slideshow": {
     "slide_type": "slide"
    }
   },
   "source": [
    "## Jerarquías\n",
    "\n",
    "Las jerarquías definen:  \n",
    "\n",
    "- Una **clase padre**: *superclase*.\n",
    "\n",
    "- Una **clase hija**: *subclase*.\n",
    "    \n",
    "    - **Hereda** todos los atributos y métodos de la clase padre.\n",
    "    \n",
    "    - Es posible **añadir** más atributos.\n",
    "    \n",
    "    - También **más comportamiento**.\n",
    "    \n",
    "    - Es posible **modificar** el comportamiento (*override of methods*).\n",
    "    \n",
    "![Jerarquías de animales](images/oop/jerarquias-animales.png)"
   ]
  },
  {
   "cell_type": "markdown",
   "metadata": {
    "slideshow": {
     "slide_type": "slide"
    }
   },
   "source": [
    "## Herencia: la clase padre\n",
    "\n",
    "- Todo es un objeto.\n",
    "\n",
    "- Hereda de la clase `object`.\n",
    "    \n",
    "    - Permite implementar operaciones básicas de Python."
   ]
  },
  {
   "cell_type": "code",
   "execution_count": 213,
   "metadata": {},
   "outputs": [],
   "source": [
    "# Clase Animal completa\n",
    "class Animal:\n",
    "    def __init__(self, age, name=None):\n",
    "        self.age = age\n",
    "        self.name = name\n",
    "        \n",
    "    def get_age(self):\n",
    "        return self.age\n",
    "    def get_name(self):\n",
    "        return self.name\n",
    "    def set_age(self, newage):\n",
    "        self.age = newage\n",
    "    def set_name(self, newname=\"\"):\n",
    "        self.name = newname\n",
    "    def __str__(self):\n",
    "        return \"animal:\"+str(self.name)+\":\"+str(self.age)"
   ]
  },
  {
   "cell_type": "markdown",
   "metadata": {
    "slideshow": {
     "slide_type": "slide"
    }
   },
   "source": [
    "## Herencia: la clase hija\n",
    "\n",
    "- Agrega funcionalidad con el método `speak()`.\n",
    "    \n",
    "    - Instancia de tipo `Cat` puede ser llamada con nuevos métodos.\n",
    "    \n",
    "    - Instancia de tipo `Animal` **arroja un error** si se llama con el núevo método de `Cat`.\n",
    "    \n",
    "- El método `__init__` no falta, **utiliza** la versión de la clase `Animal`."
   ]
  },
  {
   "cell_type": "code",
   "execution_count": 218,
   "metadata": {},
   "outputs": [],
   "source": [
    "class Cat(Animal):\n",
    "        \n",
    "    # Podemos acceder a los métodos de la clase Animal\n",
    "    # Como si estuvieran todos los métodos de la clase padre aquí pegados\n",
    "    # (...)\n",
    "\n",
    "    # Definición de un método específico para un Cat\n",
    "    def speak(self):\n",
    "        print(\"meow\")\n",
    "\n",
    "    # Redefinición del método __str__\n",
    "    def __str__(self):\n",
    "        return \"cat:\"+str(self.name)+\":\"+str(self.age)"
   ]
  },
  {
   "cell_type": "markdown",
   "metadata": {},
   "source": [
    "***Note cómo se modifica el método `__str__`***."
   ]
  },
  {
   "cell_type": "code",
   "execution_count": 217,
   "metadata": {
    "slideshow": {
     "slide_type": "subslide"
    }
   },
   "outputs": [
    {
     "name": "stdout",
     "output_type": "stream",
     "text": [
      "cat:fluffy:5\n"
     ]
    }
   ],
   "source": [
    "c = Cat(5)\n",
    "c.set_name(\"fluffy\")\n",
    "print(c)"
   ]
  },
  {
   "cell_type": "code",
   "execution_count": 219,
   "metadata": {},
   "outputs": [
    {
     "name": "stdout",
     "output_type": "stream",
     "text": [
      "meow\n"
     ]
    }
   ],
   "source": [
    "c.speak()"
   ]
  },
  {
   "cell_type": "code",
   "execution_count": 225,
   "metadata": {},
   "outputs": [],
   "source": [
    "class InfraGato(Cat): \n",
    "\n",
    "    # Redefine speak \n",
    "    def speak(self): \n",
    "        print(\"Cafecito\")\n",
    "        \n",
    "    # Redefinición del método __str__\n",
    "    def __str__(self):\n",
    "        return \"Hola soy InfraGato:\"+str(self.name)+\":\"+str(self.age)"
   ]
  },
  {
   "cell_type": "code",
   "execution_count": 226,
   "metadata": {},
   "outputs": [
    {
     "name": "stdout",
     "output_type": "stream",
     "text": [
      "Hola soy InfraGato:Marlon:32\n"
     ]
    }
   ],
   "source": [
    "mdmp = InfraGato(32, \"Marlon\")\n",
    "print(mdmp)"
   ]
  },
  {
   "cell_type": "code",
   "execution_count": 227,
   "metadata": {},
   "outputs": [
    {
     "name": "stdout",
     "output_type": "stream",
     "text": [
      "Cafecito\n"
     ]
    }
   ],
   "source": [
    "mdmp.speak()"
   ]
  },
  {
   "cell_type": "markdown",
   "metadata": {
    "slideshow": {
     "slide_type": "slide"
    }
   },
   "source": [
    "## ¿Qué método utilizar?\n",
    "\n",
    "- La subclase puede tener **métodos con el mismo nombre** que la superclase.\n",
    "\n",
    "- Una instancia busca el método en la definición de su **clase actual**.\n",
    "\n",
    "- Si no encuentra el método, busca **hacia arriba en la jerarquía**.\n",
    "    - En la clase padre, clase \"abuelo\", etc.\n",
    "\n",
    "- Utiliza el **primer método** en la jerarquía que contenga el nombre invocado."
   ]
  },
  {
   "cell_type": "code",
   "execution_count": 242,
   "metadata": {
    "slideshow": {
     "slide_type": "slide"
    }
   },
   "outputs": [],
   "source": [
    "class Person(Animal):\n",
    "    # Redefinimos el método constructor\n",
    "    def __init__(self, age, name=None):\n",
    "        # Inicializar la clase padre\n",
    "        Animal.__init__(self, age, name)\n",
    "        \n",
    "        # Agregamos nuevos atributos\n",
    "        self.friends = []\n",
    "\n",
    "    # Métodos de una persona (Person)\n",
    "    def get_friends(self):\n",
    "        return self.friends\n",
    "    def speak(self):\n",
    "        print(f\"Hello, I'm {self.name}\")\n",
    "    def add_friend(self, fname):\n",
    "        if fname not in self.friends:\n",
    "            self.friends.append(fname)\n",
    "    \n",
    "    def list_friends(self): \n",
    "        print(\"My friends are:\")\n",
    "        # \"friend\" es un Person\n",
    "        for friend in self.friends:\n",
    "            print(f\"Hi folks, my name is {friend.get_name()} and my age is {friend.get_age()}\")\n",
    "\n",
    "    def age_diff(self, other):\n",
    "        diff = self.age - other.age\n",
    "        print(abs(diff), \"year difference\")\n",
    "    def __str__(self):\n",
    "        return \"person:\"+str(self.name)+\":\"+str(self.age)"
   ]
  },
  {
   "cell_type": "markdown",
   "metadata": {},
   "source": [
    "- ***¿Cuál es la diferencia en el método constructor?***\n",
    "\n",
    "- ***¿Cuáles son los nuevos métodos de esta clase?***\n",
    "\n",
    "- ***¿Se sobreescribe (modifica) algún método?***"
   ]
  },
  {
   "cell_type": "code",
   "execution_count": 244,
   "metadata": {
    "slideshow": {
     "slide_type": "subslide"
    }
   },
   "outputs": [
    {
     "name": "stdout",
     "output_type": "stream",
     "text": [
      "jack 30\n",
      "jill 25\n"
     ]
    }
   ],
   "source": [
    "# Pruebas de Person\n",
    "p1 = Person(30, \"jack\")\n",
    "p2 = Person(25, \"jill\")\n",
    "\n",
    "print(p1.get_name(), p1.get_age())\n",
    "print(p2.get_name(), p2.get_age())"
   ]
  },
  {
   "cell_type": "code",
   "execution_count": 233,
   "metadata": {},
   "outputs": [
    {
     "name": "stdout",
     "output_type": "stream",
     "text": [
      "person:jack:30\n"
     ]
    }
   ],
   "source": [
    "print(p1)"
   ]
  },
  {
   "cell_type": "code",
   "execution_count": 234,
   "metadata": {},
   "outputs": [
    {
     "name": "stdout",
     "output_type": "stream",
     "text": [
      "Hello, I'm jack\n"
     ]
    }
   ],
   "source": [
    "p1.speak()"
   ]
  },
  {
   "cell_type": "code",
   "execution_count": 235,
   "metadata": {},
   "outputs": [
    {
     "name": "stdout",
     "output_type": "stream",
     "text": [
      "5 year difference\n"
     ]
    }
   ],
   "source": [
    "p1.age_diff(p2)"
   ]
  },
  {
   "cell_type": "code",
   "execution_count": 246,
   "metadata": {},
   "outputs": [
    {
     "data": {
      "text/plain": [
       "<__main__.Person at 0x1914906f2e0>"
      ]
     },
     "execution_count": 246,
     "metadata": {},
     "output_type": "execute_result"
    }
   ],
   "source": [
    "# Jack agrega a Jill a su lista de amig@s\n",
    "p1 = Person(30, \"jack\")\n",
    "p2 = Person(25, \"jill\")\n",
    "p1.add_friend(p2)\n",
    "p1"
   ]
  },
  {
   "cell_type": "code",
   "execution_count": 248,
   "metadata": {},
   "outputs": [
    {
     "name": "stdout",
     "output_type": "stream",
     "text": [
      "My friends are:\n",
      "Hi folks, my name is jill and my age is 25\n"
     ]
    }
   ],
   "source": [
    "p1.list_friends()"
   ]
  },
  {
   "cell_type": "markdown",
   "metadata": {
    "slideshow": {
     "slide_type": "slide"
    }
   },
   "source": [
    "## Ejemplo: clase nieto"
   ]
  },
  {
   "cell_type": "code",
   "execution_count": 250,
   "metadata": {},
   "outputs": [],
   "source": [
    "import random\n",
    "\n",
    "class Student(Person):\n",
    "    def __init__(self, age, name=None, major=None):\n",
    "        Person.__init__(self, age, name)\n",
    "        self.major = major\n",
    "    def __str__(self):\n",
    "        return \"student:\"+str(self.name)+\":\"+str(self.age)+\":\"+str(self.major)\n",
    "    def change_major(self, major):\n",
    "        self.major = major\n",
    "    def speak(self):\n",
    "        r = random.random()\n",
    "        if r < 0.25:\n",
    "            print(\"i have homework\")\n",
    "        elif 0.25 <= r < 0.5:\n",
    "            print(\"i need sleep\")\n",
    "        elif 0.5 <= r < 0.75:\n",
    "            print(\"i should eat\")\n",
    "        else:\n",
    "            print(\"i am watching tv\")"
   ]
  },
  {
   "cell_type": "markdown",
   "metadata": {},
   "source": [
    "- ***¿De qué clase hereda ahora `Student`?***\n",
    "\n",
    "- ***¿Por qué se realiza `import random`?***\n",
    "\n",
    "- ***¿Se agrega algún atributo?***\n",
    "\n",
    "- ***¿Se sobreescribe (modifica) algún método?***"
   ]
  },
  {
   "cell_type": "code",
   "execution_count": 252,
   "metadata": {
    "slideshow": {
     "slide_type": "subslide"
    }
   },
   "outputs": [
    {
     "name": "stdout",
     "output_type": "stream",
     "text": [
      "student:alice:20:CS\n",
      "student:beth:18:None\n"
     ]
    }
   ],
   "source": [
    "# Pruebas de Student\n",
    "s1 = Student(name='alice', age=20, major=\"CS\")\n",
    "s2 = Student(name='beth', age=18)\n",
    "\n",
    "print(s1)\n",
    "print(s2)"
   ]
  },
  {
   "cell_type": "code",
   "execution_count": 253,
   "metadata": {},
   "outputs": [
    {
     "name": "stdout",
     "output_type": "stream",
     "text": [
      "alice says: i am watching tv\n"
     ]
    }
   ],
   "source": [
    "print(s1.get_name(),\"says:\", end=\" \")\n",
    "s1.speak()"
   ]
  },
  {
   "cell_type": "code",
   "execution_count": 254,
   "metadata": {},
   "outputs": [
    {
     "name": "stdout",
     "output_type": "stream",
     "text": [
      "beth says: i need sleep\n"
     ]
    }
   ],
   "source": [
    "print(s2.get_name(),\"says:\", end=\" \")\n",
    "s2.speak()"
   ]
  },
  {
   "cell_type": "markdown",
   "metadata": {
    "slideshow": {
     "slide_type": "slide"
    }
   },
   "source": [
    "## Variables de clase\n",
    "\n",
    "- Sus valores se **comparten** entre todas las instancias de una clase."
   ]
  },
  {
   "cell_type": "code",
   "execution_count": 259,
   "metadata": {},
   "outputs": [],
   "source": [
    "class Rabbit(Animal):\n",
    "    # a class variable, tag, shared across all instances\n",
    "    # ESte es un atributo que pertenece a la clase, a Rabbit, y no a una instancia específica\n",
    "    tag = 1\n",
    "    def __init__(self, age, parent1=None, parent2=None):\n",
    "        Animal.__init__(self, age)\n",
    "        self.parent1 = parent1\n",
    "        self.parent2 = parent2\n",
    "        self.rid = Rabbit.tag # <- tomamos la variable del atributo de la clase\n",
    "        Rabbit.tag += 1"
   ]
  },
  {
   "cell_type": "markdown",
   "metadata": {},
   "source": [
    "- Utilizamos `tag` para dar un **identificador único** a cada instancia de `Rabbit`.\n",
    "- ¿Cuál es la diferencia entre una **variable de instancia** y una **variable de clase**?\n",
    "    - Al incrementar la variable de clase, cambia para **todas las instancias** de la clase."
   ]
  },
  {
   "cell_type": "code",
   "execution_count": 260,
   "metadata": {
    "slideshow": {
     "slide_type": "subslide"
    }
   },
   "outputs": [
    {
     "name": "stdout",
     "output_type": "stream",
     "text": [
      "r1: animal:None:3\n",
      "r2: animal:None:4\n"
     ]
    }
   ],
   "source": [
    "# Prueba de conejos\n",
    "r1 = Rabbit(3)\n",
    "r2 = Rabbit(4)\n",
    "\n",
    "print(\"r1:\", r1)\n",
    "print(\"r2:\", r2)"
   ]
  },
  {
   "cell_type": "markdown",
   "metadata": {},
   "source": [
    "La etiqueta es la misma para todas las instancias: "
   ]
  },
  {
   "cell_type": "code",
   "execution_count": 265,
   "metadata": {},
   "outputs": [
    {
     "data": {
      "text/plain": [
       "(3, 3)"
      ]
     },
     "execution_count": 265,
     "metadata": {},
     "output_type": "execute_result"
    }
   ],
   "source": [
    "#tag se queda en el valor\n",
    "r1.tag, r2.tag"
   ]
  },
  {
   "cell_type": "code",
   "execution_count": 267,
   "metadata": {},
   "outputs": [
    {
     "data": {
      "text/plain": [
       "(1, 2)"
      ]
     },
     "execution_count": 267,
     "metadata": {},
     "output_type": "execute_result"
    }
   ],
   "source": [
    "# Pero sus ids son diferentes\n",
    "r1.rid, r2.rid"
   ]
  },
  {
   "cell_type": "markdown",
   "metadata": {
    "slideshow": {
     "slide_type": "slide"
    }
   },
   "source": [
    "## Métodos *getter* para `Rabbit`\n",
    "- `get_rid()`: devuelve el ID del conejo.\n",
    "- `get_parent1()` y `get_parent2()` devuelven a los padres del conejo."
   ]
  },
  {
   "cell_type": "code",
   "execution_count": 269,
   "metadata": {},
   "outputs": [],
   "source": [
    "class Rabbit(Animal):\n",
    "    # a class variable, tag, shared across all instances\n",
    "    tag = 1\n",
    "    def __init__(self, age, parent1=None, parent2=None):\n",
    "        Animal.__init__(self, age)\n",
    "        self.parent1 = parent1\n",
    "        self.parent2 = parent2\n",
    "        self.rid = Rabbit.tag\n",
    "        Rabbit.tag += 1\n",
    "    def get_rid(self):\n",
    "        # zfill used to add leading zeroes 001 instead of 1\n",
    "        return str(self.rid).zfill(3)\n",
    "    def get_parent1(self):\n",
    "        return self.parent1\n",
    "    def get_parent2(self):\n",
    "        return self.parent2"
   ]
  },
  {
   "cell_type": "markdown",
   "metadata": {},
   "source": [
    "- Recordemos que `get_name()` y `get_age()` fueron heredados de la clase `Animal`."
   ]
  },
  {
   "cell_type": "markdown",
   "metadata": {
    "slideshow": {
     "slide_type": "slide"
    }
   },
   "source": [
    "## Creando un operador para `Rabbit`\n",
    "- Definimos el operador `+` entre dos instancias de `Rabbit`.\n",
    "    \n",
    "    - Si `r1` y `r2` son instancias de `Rabbit`: `r4 = r1 + r2` definen un conejo con padres `r1` y `r2`.\n",
    "    \n",
    "    - Se define al conejo `r4` con edad inicial cero.\n",
    "    \n",
    "    - Un padre es `self` y el otro es `other`.\n",
    "    \n",
    "    - Recordemos que en `__init__`, `parent1` y `parent2` son de tipo `Rabbit`."
   ]
  },
  {
   "cell_type": "code",
   "execution_count": null,
   "metadata": {},
   "outputs": [],
   "source": [
    "# def __add__(self, other):\n",
    "#     # returning object of same type as this class\n",
    "#     return Rabbit(0, self, other)"
   ]
  },
  {
   "cell_type": "code",
   "execution_count": 270,
   "metadata": {
    "slideshow": {
     "slide_type": "skip"
    }
   },
   "outputs": [],
   "source": [
    "# Esta es parcial, para probar la clase Rabbit con el método __add__\n",
    "class Rabbit(Animal):\n",
    "    # a class variable, tag, shared across all instances\n",
    "    tag = 1\n",
    "    def __init__(self, age, parent1=None, parent2=None):\n",
    "        Animal.__init__(self, age)\n",
    "        self.parent1 = parent1\n",
    "        self.parent2 = parent2\n",
    "        self.rid = Rabbit.tag\n",
    "        Rabbit.tag += 1\n",
    "    def get_rid(self):\n",
    "        # zfill used to add leading zeroes 001 instead of 1\n",
    "        return str(self.rid).zfill(3)\n",
    "    def get_parent1(self):\n",
    "        return self.parent1\n",
    "    def get_parent2(self):\n",
    "        return self.parent2\n",
    "    def __add__(self, other):\n",
    "        # returning object of same type as this class\n",
    "        return Rabbit(0, self, other)"
   ]
  },
  {
   "cell_type": "code",
   "execution_count": 280,
   "metadata": {
    "slideshow": {
     "slide_type": "subslide"
    }
   },
   "outputs": [
    {
     "name": "stdout",
     "output_type": "stream",
     "text": [
      "011 012\n"
     ]
    }
   ],
   "source": [
    "# Prueba de conejos\n",
    "r1 = Rabbit(3)\n",
    "r2 = Rabbit(4)\n",
    "\n",
    "print(r1.get_rid(), r2.get_rid())"
   ]
  },
  {
   "cell_type": "code",
   "execution_count": 281,
   "metadata": {},
   "outputs": [],
   "source": [
    "r4 = r1 + r2"
   ]
  },
  {
   "cell_type": "code",
   "execution_count": 282,
   "metadata": {},
   "outputs": [
    {
     "data": {
      "text/plain": [
       "'011'"
      ]
     },
     "execution_count": 282,
     "metadata": {},
     "output_type": "execute_result"
    }
   ],
   "source": [
    "r4.get_parent1().get_rid()"
   ]
  },
  {
   "cell_type": "code",
   "execution_count": 283,
   "metadata": {},
   "outputs": [
    {
     "data": {
      "text/plain": [
       "'012'"
      ]
     },
     "execution_count": 283,
     "metadata": {},
     "output_type": "execute_result"
    }
   ],
   "source": [
    "r4.get_parent2().get_rid()"
   ]
  },
  {
   "cell_type": "markdown",
   "metadata": {
    "slideshow": {
     "slide_type": "slide"
    }
   },
   "source": [
    "## Método para comparar dos `Rabbit`\n",
    "\n",
    "- Vamos a decidir que dos conejos son iguales si **tienen a los mismos padres**."
   ]
  },
  {
   "cell_type": "code",
   "execution_count": 39,
   "metadata": {},
   "outputs": [],
   "source": [
    "# Comparamos si dos conejos tienen los mismos padres\n",
    "def __eq__(self, other):\n",
    "    # compare the ids of self and other's parents\n",
    "    # don't care about the order of the parents\n",
    "    # the backslash tells python I want to break up my line\n",
    "    parents_same = self.parent1.rid == other.parent1.rid \\\n",
    "                   and self.parent2.rid == other.parent2.rid\n",
    "\n",
    "    parents_opposite = self.parent2.rid == other.parent1.rid \\\n",
    "                       and self.parent1.rid == other.parent2.rid\n",
    "\n",
    "    return parents_same or parents_opposite"
   ]
  },
  {
   "cell_type": "markdown",
   "metadata": {},
   "source": [
    "- Comparamos los IDs de los padres, ya que estos son únicos debido a **las variables de clase**. \n",
    "\n",
    "- Notar que no es posible comparar a los objetos padres directamente.\n",
    "    - Por ejemplo: `self.parent1 == other.parent1`\n",
    "    - Esto llamaría a `__eq__` hacia los padres de los conejos, hasta eventualmente obtener `None`, lo cual provocaría `AtributeError` al intentar hacer `None.parent1`."
   ]
  },
  {
   "cell_type": "code",
   "execution_count": 284,
   "metadata": {
    "slideshow": {
     "slide_type": "skip"
    }
   },
   "outputs": [],
   "source": [
    "# Clase completa de Rabbit y ejemplos\n",
    "class Rabbit(Animal):\n",
    "    # a class variable, tag, shared across all instances\n",
    "    tag = 1\n",
    "    def __init__(self, age, parent1=None, parent2=None):\n",
    "        Animal.__init__(self, age)\n",
    "        self.parent1 = parent1\n",
    "        self.parent2 = parent2\n",
    "        self.rid = Rabbit.tag\n",
    "        Rabbit.tag += 1\n",
    "    def get_rid(self):\n",
    "        # zfill used to add leading zeroes 001 instead of 1\n",
    "        return str(self.rid).zfill(3)\n",
    "    def get_parent1(self):\n",
    "        return self.parent1\n",
    "    def get_parent2(self):\n",
    "        return self.parent2\n",
    "    def __add__(self, other):\n",
    "        # returning object of same type as this class\n",
    "        return Rabbit(0, self, other)\n",
    "    def __eq__(self, other):\n",
    "        # compare the ids of self and other's parents\n",
    "        # don't care about the order of the parents\n",
    "        # the backslash tells python I want to break up my line\n",
    "        parents_same = self.parent1.rid == other.parent1.rid \\\n",
    "                       and self.parent2.rid == other.parent2.rid\n",
    "        parents_opposite = self.parent2.rid == other.parent1.rid \\\n",
    "                           and self.parent1.rid == other.parent2.rid\n",
    "        return parents_same or parents_opposite\n",
    "    def __str__(self):\n",
    "        return \"rabbit:\"+ self.get_rid()"
   ]
  },
  {
   "cell_type": "code",
   "execution_count": 285,
   "metadata": {
    "slideshow": {
     "slide_type": "subslide"
    }
   },
   "outputs": [],
   "source": [
    "# Creando instancias de Rabbit\n",
    "r1 = Rabbit(3)\n",
    "r2 = Rabbit(4)\n",
    "r3 = Rabbit(5)"
   ]
  },
  {
   "cell_type": "code",
   "execution_count": 286,
   "metadata": {},
   "outputs": [
    {
     "name": "stdout",
     "output_type": "stream",
     "text": [
      "r1: rabbit:001\n",
      "r2: rabbit:002\n",
      "r3: rabbit:003\n"
     ]
    }
   ],
   "source": [
    "print(\"r1:\", r1)\n",
    "print(\"r2:\", r2)\n",
    "print(\"r3:\", r3)"
   ]
  },
  {
   "cell_type": "code",
   "execution_count": 287,
   "metadata": {},
   "outputs": [
    {
     "name": "stdout",
     "output_type": "stream",
     "text": [
      "r1 parent1: None\n",
      "r1 parent2: None\n"
     ]
    }
   ],
   "source": [
    "print(\"r1 parent1:\", r1.get_parent1())\n",
    "print(\"r1 parent2:\", r1.get_parent2())"
   ]
  },
  {
   "cell_type": "code",
   "execution_count": 288,
   "metadata": {},
   "outputs": [
    {
     "name": "stdout",
     "output_type": "stream",
     "text": [
      "r4 parent1: rabbit:001\n",
      "r4 parent2: rabbit:002\n"
     ]
    }
   ],
   "source": [
    "r4 = r1+r2\n",
    "print(\"r4 parent1:\", r4.get_parent1())\n",
    "print(\"r4 parent2:\", r4.get_parent2())"
   ]
  },
  {
   "cell_type": "code",
   "execution_count": 289,
   "metadata": {
    "slideshow": {
     "slide_type": "subslide"
    }
   },
   "outputs": [
    {
     "name": "stdout",
     "output_type": "stream",
     "text": [
      "r5 parent1: rabbit:003\n",
      "r5 parent2: rabbit:004\n",
      "r6 parent1: rabbit:004\n",
      "r6 parent2: rabbit:003\n"
     ]
    }
   ],
   "source": [
    "# Probando igualdad de conejos\n",
    "r5 = r3+r4\n",
    "r6 = r4+r3\n",
    "\n",
    "print(\"r5 parent1:\", r5.get_parent1())\n",
    "print(\"r5 parent2:\", r5.get_parent2())\n",
    "print(\"r6 parent1:\", r6.get_parent1())\n",
    "print(\"r6 parent2:\", r6.get_parent2())"
   ]
  },
  {
   "cell_type": "code",
   "execution_count": 292,
   "metadata": {},
   "outputs": [
    {
     "name": "stdout",
     "output_type": "stream",
     "text": [
      "r5 and r6 have same parents? True\n",
      "r4 and r6 have same parents? False\n"
     ]
    }
   ],
   "source": [
    "# Esto fue lo que programamos con def __eq__: comparar un conejo con otro\n",
    "print(\"r5 and r6 have same parents?\", r5 == r6)\n",
    "print(\"r4 and r6 have same parents?\", r4 == r6)"
   ]
  },
  {
   "cell_type": "markdown",
   "metadata": {
    "slideshow": {
     "slide_type": "slide"
    }
   },
   "source": [
    "## Resumen: OOP\n",
    "\n",
    "- Permite crear una **colección** y **organización** de datos personalizada.\n",
    "- **Divide** el trabajo entre varios objetos similares.\n",
    "- Permite acceder a la información de una manera **consistente**.\n",
    "- Permite añadir la complejidad por **capas**.\n",
    "- Como las funciones:\n",
    "    - Permiten crear **descomposición** y **abstracción**.\n",
    "    - **Modularizar** los programas."
   ]
  },
  {
   "cell_type": "markdown",
   "metadata": {
    "slideshow": {
     "slide_type": "slide"
    }
   },
   "source": [
    "## Fin\n",
    "\n",
    "![OOP](images/oop/oop-logo.png)"
   ]
  },
  {
   "cell_type": "markdown",
   "metadata": {},
   "source": [
    "## Ejercicios"
   ]
  },
  {
   "cell_type": "markdown",
   "metadata": {},
   "source": [
    "### Clase `Dice`\n",
    "\n",
    "Implementar una clase denominada `Dice`, que funcione como un conjunto de $n$ dados. La clase debe recibir como argumento el número de dados a tirar. Además, la clase debe implementar:\n",
    "\n",
    "- Un método de `roll()` que simula la tirada de los $n$ dados y guarda internamente una lista con los valores resultantes. No devuelve nada.\n",
    "    \n",
    "    - Si no se ha llamado a `roll()`, la lista interna debe ser vacía.\n",
    "\n",
    "- Un método `getLastRoll()` que devuelve la lista con los valores de la última tirada.\n",
    "    - Si no se ha llamado a `roll()`, debe devolver una lista vacía.\n",
    "\n",
    "- Un método `getRollSum()` que devuelve la suma de los valores de la última tirada.\n",
    "\n",
    "    - Si no se ha llamado a `roll()`, debe devolver cero."
   ]
  },
  {
   "cell_type": "code",
   "execution_count": null,
   "metadata": {},
   "outputs": [],
   "source": [
    "# Ayuda, utilizar la siguiente función del módulo random\n",
    "import random\n",
    "random.randint(1,6)"
   ]
  },
  {
   "cell_type": "code",
   "execution_count": null,
   "metadata": {},
   "outputs": [],
   "source": [
    "class Dice:\n",
    "    def __init__(self, n):\n",
    "        pass\n",
    "    \n",
    "    def roll():\n",
    "        pass\n",
    "    \n",
    "    def getLastRoll():\n",
    "        pass\n",
    "    \n",
    "    def getRollSum():\n",
    "        pass"
   ]
  },
  {
   "cell_type": "code",
   "execution_count": null,
   "metadata": {},
   "outputs": [],
   "source": []
  },
  {
   "cell_type": "markdown",
   "metadata": {},
   "source": [
    "### Lista enlazada de `Dice` \n",
    "\n",
    "Crear una clase denominada `Block` que herede de la clase `Dice` y tenga como atributo adicional una cadena de texto que guarde un mensaje. La clase `Block` debe implementar:\n",
    "\n",
    "- Un atributo denominado `prev` que almacena la referencia a un objeto `Block`, de tal forma que cada bloque apunte al anterior en una especie de \"cadena\". \n",
    "    - El argumento por defecto para el atributo `prev` será `None`, el cual será definido por defecto en el constructor.\n",
    "    - Cada instancia de `Block` debe tener: \n",
    "- Un método `getMessage()` para obtener su mensaje almacenado.\n",
    "- Un método `getDiceSum()` para obtener la suma de los valores almacenados en su dado. Este método debe llamar a `getRollSum()` de manera interna. \n",
    "- Un método llamado `getBalance()`, que obtiene la suma de los dados desde el bloque del cual se llama hasta que encuentre un bloque con su atributo `prev` con valor `None`. Este método debe iterar sobre el bloque actual y los siguientes para ir acumulando la suma de los dados. Por ejemplo, si el bloque `a` tiene la suma 3, el bloque `b` tiene la suma 2 y el bloque `c` tiene la suma 12, y además al construir los objetos tenemos: \n",
    "```python\n",
    "a = Block(\"A's message\")\n",
    "b = Block(\"B's message\", a)\n",
    "c = Block(\"C's message\", b)\n",
    "```\n",
    "\n",
    "entonces `a.getBalance()` debería devolver únicamente $3$, `b.getBalance()` devuelve $3+2$ y `c` devuelve $3+2+12$. "
   ]
  },
  {
   "cell_type": "code",
   "execution_count": null,
   "metadata": {},
   "outputs": [],
   "source": []
  },
  {
   "cell_type": "markdown",
   "metadata": {},
   "source": [
    "- Utilice las funciones del juego de la vida (*Game of life*) del cuaderno trabajado en clase para definir una clase `GameOfLife` que implemente los métodos: \n",
    "  - `parsemap`: para leer un tablero a un atributo de memoria desde un archivo de texto. \n",
    "  - `step`: para transcurrir 1 período en el tablero de acuerdo con las reglas del juego.\n",
    "  - `__str__`: para imprimir una representación de la cuadrícula con espacios ` ` y asteriscos `*`. \n",
    "- Las funciones como `update_alive`, `update_death` y `count_around` deben manejarse como métodos privados de la clase, por ejemplo `_update_alive`, `_update_death` y `_count_around`."
   ]
  },
  {
   "cell_type": "code",
   "execution_count": null,
   "metadata": {},
   "outputs": [],
   "source": []
  }
 ],
 "metadata": {
  "celltoolbar": "Slideshow",
  "kernelspec": {
   "display_name": "Python 3",
   "language": "python",
   "name": "python3"
  },
  "language_info": {
   "codemirror_mode": {
    "name": "ipython",
    "version": 3
   },
   "file_extension": ".py",
   "mimetype": "text/x-python",
   "name": "python",
   "nbconvert_exporter": "python",
   "pygments_lexer": "ipython3",
   "version": "3.9.7"
  }
 },
 "nbformat": 4,
 "nbformat_minor": 2
}
